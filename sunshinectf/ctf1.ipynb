{
 "cells": [
  {
   "cell_type": "code",
   "execution_count": 39,
   "metadata": {},
   "outputs": [
    {
     "name": "stdout",
     "output_type": "stream",
     "text": [
      "3E3?6]QHKTHQQBEETTNKZQ]K]?K<KHH<BQ<KQT<QHNT\n",
      "[17, 23, 17, 21, 18, 31, 27, 24, 25, 28, 24, 27, 27, 22, 23, 23, 28, 28, 26, 25, 30, 27, 31, 25, 31, 21, 25, 20, 25, 24, 24, 20, 22, 27, 20, 25, 27, 28, 20, 27, 24, 26, 28]\n",
      "D\\DTH|l`dp`llX\\\\pphdxl|d|TdPd``PXlPdlpPl`hp\n",
      "AYAQEyi]dueqq]aapia]qeu]uaq]qmm]ey]dlp]ymu}\n",
      "---\n",
      "CYCTF{i_guess_basic_rev_was_too_ez_for_you}\n",
      "F\\FWI~lbgp`nnZ]\\spjfyl}f~TfRgbbRXmRforRlbhp\n",
      "[17, 23, 17, 21, 18, 31, 27, 24, 25, 28, 24, 27, 27, 22, 23, 23, 28, 28, 26, 25, 30, 27, 31, 25, 31, 21, 25, 20, 25, 24, 24, 20, 22, 27, 20, 25, 27, 28, 20, 27, 24, 26, 28]\n",
      "3E3?6]QHKTHQQBEETTNKZQ]K]?K<KHH<BQ<KQT<QHNT\n"
     ]
    }
   ],
   "source": [
    "req = \"3E3?6]QHKTHQQBEETTNKZQ]K]?K<KHH<BQ<KQT<QHNT\"\n",
    "sol = \"CYCTF{i_guess_basic_rev_was_too_ez_for_you}\"\n",
    "input = [ord(x) for x in req]\n",
    "solnb = [ord(x) for x in sol]\n",
    "\n",
    "def tr1(i):\n",
    "  do = 0\n",
    "  if (i > 7):\n",
    "    if ((i < 9) or (15 < i)):\n",
    "      if ((i < 17) or (24 < i)):\n",
    "        if ((i < 23) or (i > 34)):\n",
    "          if (i > 37) :\n",
    "            do = -13;\n",
    "        else:\n",
    "          do = -13;\n",
    "      else:\n",
    "        do = +7;\n",
    "    else:\n",
    "      do = -5;\n",
    "  else:\n",
    "    do = 3;\n",
    "  return do\n",
    "\n",
    "def tr2(x):\n",
    "    if (x < 0):\n",
    "        x = x + 3\n",
    "    return (x >> 2)\n",
    "\n",
    "def tr2_1(x):\n",
    "    x = x << 2\n",
    "    if (x < 3):\n",
    "        x = x - 3\n",
    "    return x\n",
    "\n",
    "def tr3(x):\n",
    "    return x * 3\n",
    "\n",
    "def tr3_1(x):\n",
    "    return int(x / 3)\n",
    "\n",
    "print(''.join([chr(round(x)) for x in input]))\n",
    "for i in range(len(input)):\n",
    "    input[i] = tr3_1(input[i])\n",
    "print([int(i) for i in input])\n",
    "for i in range(len(input)):    \n",
    "    input[i] = tr2_1(input[i])\n",
    "print(''.join([chr(round(x)) for x in input]))\n",
    "for i in range(len(input)):    \n",
    "    input[i] = input[i] - tr1(i)\n",
    "print(''.join([chr(round(x)) for x in input]))\n",
    "    \n",
    "print('---')\n",
    "print(''.join([chr(round(x)) for x in solnb]))\n",
    "for i in range(len(solnb)):\n",
    "    solnb[i] = solnb[i] + tr1(i)\n",
    "print(''.join([chr(round(x)) for x in solnb]))\n",
    "for i in range(len(solnb)):\n",
    "    solnb[i] = tr2(solnb[i])\n",
    "print(solnb)    \n",
    "for i in range(len(solnb)):\n",
    "    solnb[i] = tr3(solnb[i])\n",
    "print(''.join([chr(round(x)) for x in solnb]))"
   ]
  },
  {
   "cell_type": "code",
   "execution_count": 31,
   "metadata": {},
   "outputs": [
    {
     "data": {
      "text/plain": [
       "('D', 68)"
      ]
     },
     "execution_count": 31,
     "metadata": {},
     "output_type": "execute_result"
    }
   ],
   "source": [
    "chr(17 * 4), 17 * 4"
   ]
  },
  {
   "cell_type": "code",
   "execution_count": 33,
   "metadata": {},
   "outputs": [
    {
     "data": {
      "text/plain": [
       "(70, 2, 17)"
      ]
     },
     "execution_count": 33,
     "metadata": {},
     "output_type": "execute_result"
    }
   ],
   "source": [
    "ord('F'), ord('F') % 4, ord('F') >> 2"
   ]
  },
  {
   "cell_type": "code",
   "execution_count": 35,
   "metadata": {},
   "outputs": [
    {
     "data": {
      "text/plain": [
       "(17, 17, 17, 17)"
      ]
     },
     "execution_count": 35,
     "metadata": {},
     "output_type": "execute_result"
    }
   ],
   "source": [
    " ord('D') >> 2, ord('E') >> 2, ord('F') >> 2, ord('G') >> 2, "
   ]
  },
  {
   "cell_type": "code",
   "execution_count": null,
   "metadata": {},
   "outputs": [],
   "source": [
    "\n",
    "for i in range(43):\n",
    "  input[i] = convert(input[i], i)\n",
    "\n",
    "poss = [[] for x in range(len(has))]\n",
    "for i in range(len(has)):\n",
    "  for x in range(256):\n",
    "    try:\n",
    "      if chr(convert(x, i)) == req[i] and chr(x) not in [\"[\",\"]\",\"^\",\"`\"]:\n",
    "        poss[i].append(chr(x))\n",
    "    except Exception as e:\n",
    "      pass\n",
    "\n",
    "\n",
    "from itertools import product\n",
    "for p in product(*poss):\n",
    "    print(''.join(p))\n",
    "\n",
    "print(req)\n",
    "print(''.join([chr(x) for x in input]))"
   ]
  },
  {
   "cell_type": "code",
   "execution_count": 17,
   "metadata": {},
   "outputs": [
    {
     "name": "stdout",
     "output_type": "stream",
     "text": [
      "20 / 4 = 5.0\n",
      "120 / 4 = 30.0\n",
      "220 / 4 = 55.0\n",
      "320 / 4 = 80.0\n",
      "420 / 4 = 105.0\n",
      "520 / 4 = 130.0\n",
      "620 / 4 = 155.0\n",
      "720 / 4 = 180.0\n",
      "820 / 4 = 205.0\n",
      "920 / 4 = 230.0\n"
     ]
    }
   ],
   "source": [
    "for i in range(10):\n",
    "    a = 100 * i + 20\n",
    "    print (f\"{a} / 4 = {a / 4}\")"
   ]
  },
  {
   "cell_type": "code",
   "execution_count": 55,
   "metadata": {},
   "outputs": [],
   "source": [
    "presque = \"i]dueqq]aapia]qeu]uaq]qmm]ey]dlp]ymu\"\n",
    "presqnb = [ord(c) for c in presque]"
   ]
  },
  {
   "cell_type": "code",
   "execution_count": 59,
   "metadata": {},
   "outputs": [],
   "source": [
    "base = [c - c % 3 for c in presqnb]\n",
    "poss = [[] for x in range(len(base))]\n",
    "\n",
    "for i in range(len(base)):\n",
    "    poss[i]=[]\n",
    "    for b in range (3):\n",
    "        poss[i].append(chr(base[i]+b))"
   ]
  },
  {
   "cell_type": "code",
   "execution_count": 60,
   "metadata": {},
   "outputs": [
    {
     "ename": "KeyboardInterrupt",
     "evalue": "",
     "output_type": "error",
     "traceback": [
      "\u001b[0;31m---------------------------------------------------------------------------\u001b[0m",
      "\u001b[0;31mKeyboardInterrupt\u001b[0m                         Traceback (most recent call last)",
      "\u001b[0;32m<ipython-input-60-29215cd9029a>\u001b[0m in \u001b[0;36m<module>\u001b[0;34m\u001b[0m\n\u001b[1;32m      1\u001b[0m \u001b[0;32mfrom\u001b[0m \u001b[0mitertools\u001b[0m \u001b[0;32mimport\u001b[0m \u001b[0mproduct\u001b[0m\u001b[0;34m\u001b[0m\u001b[0;34m\u001b[0m\u001b[0m\n\u001b[1;32m      2\u001b[0m \u001b[0;32mfor\u001b[0m \u001b[0mp\u001b[0m \u001b[0;32min\u001b[0m \u001b[0mproduct\u001b[0m\u001b[0;34m(\u001b[0m\u001b[0;34m*\u001b[0m\u001b[0mposs\u001b[0m\u001b[0;34m)\u001b[0m\u001b[0;34m:\u001b[0m\u001b[0;34m\u001b[0m\u001b[0;34m\u001b[0m\u001b[0m\n\u001b[0;32m----> 3\u001b[0;31m     \u001b[0;32mif\u001b[0m \u001b[0;34m(\u001b[0m\u001b[0;34m\"[\"\u001b[0m \u001b[0;32mnot\u001b[0m \u001b[0;32min\u001b[0m \u001b[0mp\u001b[0m\u001b[0;34m)\u001b[0m \u001b[0;32mand\u001b[0m \u001b[0;34m(\u001b[0m\u001b[0;34m\"]\"\u001b[0m \u001b[0;32mnot\u001b[0m \u001b[0;32min\u001b[0m \u001b[0mp\u001b[0m\u001b[0;34m)\u001b[0m \u001b[0;32mand\u001b[0m \u001b[0;34m(\u001b[0m\u001b[0;34m\"^\"\u001b[0m \u001b[0;32mnot\u001b[0m \u001b[0;32min\u001b[0m \u001b[0mp\u001b[0m\u001b[0;34m)\u001b[0m \u001b[0;32mand\u001b[0m \u001b[0;34m(\u001b[0m\u001b[0;34m\"`\"\u001b[0m \u001b[0;32mnot\u001b[0m \u001b[0;32min\u001b[0m \u001b[0mp\u001b[0m\u001b[0;34m)\u001b[0m\u001b[0;34m:\u001b[0m\u001b[0;34m\u001b[0m\u001b[0;34m\u001b[0m\u001b[0m\n\u001b[0m\u001b[1;32m      4\u001b[0m         \u001b[0mprint\u001b[0m\u001b[0;34m(\u001b[0m\u001b[0;34m''\u001b[0m\u001b[0;34m.\u001b[0m\u001b[0mjoin\u001b[0m\u001b[0;34m(\u001b[0m\u001b[0mp\u001b[0m\u001b[0;34m)\u001b[0m\u001b[0;34m)\u001b[0m\u001b[0;34m\u001b[0m\u001b[0;34m\u001b[0m\u001b[0m\n",
      "\u001b[0;31mKeyboardInterrupt\u001b[0m: "
     ]
    }
   ],
   "source": [
    "from itertools import product\n",
    "for p in product(*poss):\n",
    "    if (\"[\" not in p) and (\"]\" not in p) and (\"^\" not in p) and (\"`\" not in p):\n",
    "        print(''.join(p))"
   ]
  },
  {
   "cell_type": "code",
   "execution_count": null,
   "metadata": {},
   "outputs": [],
   "source": []
  }
 ],
 "metadata": {
  "kernelspec": {
   "display_name": "Python 3",
   "language": "python",
   "name": "python3"
  },
  "language_info": {
   "codemirror_mode": {
    "name": "ipython",
    "version": 3
   },
   "file_extension": ".py",
   "mimetype": "text/x-python",
   "name": "python",
   "nbconvert_exporter": "python",
   "pygments_lexer": "ipython3",
   "version": "3.7.1"
  }
 },
 "nbformat": 4,
 "nbformat_minor": 4
}
